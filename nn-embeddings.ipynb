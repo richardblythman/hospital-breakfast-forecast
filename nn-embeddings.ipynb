{
 "cells": [
  {
   "cell_type": "markdown",
   "metadata": {},
   "source": [
    "# Forecasting sales of breakfast items in Apollo Hospital using feed-forward neural network with entity embedding"
   ]
  },
  {
   "cell_type": "markdown",
   "metadata": {},
   "source": [
    "## Introduction"
   ]
  },
  {
   "cell_type": "markdown",
   "metadata": {},
   "source": [
    "In [another notebook](https://github.com/richardblythman/hospital-breakfast-forecast/blob/master/arima-models.ipynb), classical ARIMA models were used to forecast the sale of breakfast items in an Apollo hospital to provide a baseline for evaluating the accuracy of a neural network on the very small dataset. In many ways, modern machine learning constitutes a paradigm shift with respect to classical statistical techniques. The aim of the current notebook is to use as little data exploration, feature engineering and domain expertise as possible, to achieve a \"black box\" model with comparable accuracy.\n",
    "\n",
    "A simple feed-forward neural network with entity embedding is chosen, since such models have been outperforming recurrent neural networks in recent times. For example, neural networks with categorical embedding have been successfully applied to time series data by the winners and 3rd place runners-up of the [New York City Taxi Fare Prediction](http://blog.kaggle.com/2015/07/27/taxi-trajectory-winners-interview-1st-place-team-%F0%9F%9A%95/) ([paper here](https://arxiv.org/abs/1508.00021)) and [Rosmann Store Sales](http://blog.kaggle.com/2016/01/22/rossmann-store-sales-winners-interview-3rd-place-cheng-gui/) ([paper here](https://arxiv.org/abs/1604.06737)) competitions on Kaggle. The current implementation is based on the [Lesson 3 Jupyter notebook](https://github.com/fastai/fastai/blob/master/courses/dl1/lesson3-rossman.ipynb) of the [Practical Deep Learning for Coders](http://course.fast.ai/), using the newly-released [fastai v1.0](https://github.com/fastai/fastai) deep learning library (which sits on top of PyTorch v1). "
   ]
  },
  {
   "cell_type": "markdown",
   "metadata": {},
   "source": [
    "## Preparations"
   ]
  },
  {
   "cell_type": "markdown",
   "metadata": {},
   "source": [
    "### Load libraries"
   ]
  },
  {
   "cell_type": "markdown",
   "metadata": {},
   "source": [
    "For this structured data problem, we'll use the fastai tabular modules."
   ]
  },
  {
   "cell_type": "code",
   "execution_count": 1,
   "metadata": {
    "scrolled": true
   },
   "outputs": [],
   "source": [
    "%matplotlib inline\n",
    "\n",
    "from fastai import *\n",
    "from fastai.tabular import *\n",
    "\n",
    "from sklearn.metrics import mean_absolute_error\n",
    "from sklearn.decomposition import PCA\n",
    "\n",
    "import numpy as np\n",
    "import pandas as pd\n",
    "import matplotlib.pyplot as plt"
   ]
  },
  {
   "cell_type": "markdown",
   "metadata": {},
   "source": [
    "## Data manipulation"
   ]
  },
  {
   "cell_type": "markdown",
   "metadata": {},
   "source": [
    "### Load data files"
   ]
  },
  {
   "cell_type": "markdown",
   "metadata": {},
   "source": [
    "Firstly, let's read the raw data and convert the dates to a usable format."
   ]
  },
  {
   "cell_type": "code",
   "execution_count": 2,
   "metadata": {
    "scrolled": true
   },
   "outputs": [
    {
     "name": "stdout",
     "output_type": "stream",
     "text": [
      "Number of missing values:  0\n",
      "Shape:  (115, 9)\n"
     ]
    },
    {
     "data": {
      "text/html": [
       "<div>\n",
       "<style scoped>\n",
       "    .dataframe tbody tr th:only-of-type {\n",
       "        vertical-align: middle;\n",
       "    }\n",
       "\n",
       "    .dataframe tbody tr th {\n",
       "        vertical-align: top;\n",
       "    }\n",
       "\n",
       "    .dataframe thead th {\n",
       "        text-align: right;\n",
       "    }\n",
       "</style>\n",
       "<table border=\"1\" class=\"dataframe\">\n",
       "  <thead>\n",
       "    <tr style=\"text-align: right;\">\n",
       "      <th></th>\n",
       "      <th>Date</th>\n",
       "      <th>Occupancy</th>\n",
       "      <th>Idly</th>\n",
       "      <th>Dosa</th>\n",
       "      <th>Chutney</th>\n",
       "      <th>Sambar</th>\n",
       "      <th>Continental B/F</th>\n",
       "      <th>North Indian B/F</th>\n",
       "      <th>Omelette</th>\n",
       "    </tr>\n",
       "  </thead>\n",
       "  <tbody>\n",
       "    <tr>\n",
       "      <th>110</th>\n",
       "      <td>2013-01-19</td>\n",
       "      <td>198</td>\n",
       "      <td>61</td>\n",
       "      <td>15</td>\n",
       "      <td>127</td>\n",
       "      <td>127</td>\n",
       "      <td>40</td>\n",
       "      <td>3</td>\n",
       "      <td>18</td>\n",
       "    </tr>\n",
       "    <tr>\n",
       "      <th>111</th>\n",
       "      <td>2013-01-20</td>\n",
       "      <td>210</td>\n",
       "      <td>65</td>\n",
       "      <td>20</td>\n",
       "      <td>140</td>\n",
       "      <td>140</td>\n",
       "      <td>41</td>\n",
       "      <td>3</td>\n",
       "      <td>22</td>\n",
       "    </tr>\n",
       "    <tr>\n",
       "      <th>112</th>\n",
       "      <td>2013-01-21</td>\n",
       "      <td>200</td>\n",
       "      <td>61</td>\n",
       "      <td>14</td>\n",
       "      <td>129</td>\n",
       "      <td>136</td>\n",
       "      <td>41</td>\n",
       "      <td>6</td>\n",
       "      <td>22</td>\n",
       "    </tr>\n",
       "    <tr>\n",
       "      <th>113</th>\n",
       "      <td>2013-01-22</td>\n",
       "      <td>230</td>\n",
       "      <td>66</td>\n",
       "      <td>17</td>\n",
       "      <td>128</td>\n",
       "      <td>123</td>\n",
       "      <td>43</td>\n",
       "      <td>7</td>\n",
       "      <td>21</td>\n",
       "    </tr>\n",
       "    <tr>\n",
       "      <th>114</th>\n",
       "      <td>2013-01-23</td>\n",
       "      <td>233</td>\n",
       "      <td>44</td>\n",
       "      <td>16</td>\n",
       "      <td>139</td>\n",
       "      <td>139</td>\n",
       "      <td>44</td>\n",
       "      <td>4</td>\n",
       "      <td>17</td>\n",
       "    </tr>\n",
       "  </tbody>\n",
       "</table>\n",
       "</div>"
      ],
      "text/plain": [
       "          Date  Occupancy  Idly  Dosa  Chutney  Sambar  Continental B/F  \\\n",
       "110 2013-01-19        198    61    15      127     127               40   \n",
       "111 2013-01-20        210    65    20      140     140               41   \n",
       "112 2013-01-21        200    61    14      129     136               41   \n",
       "113 2013-01-22        230    66    17      128     123               43   \n",
       "114 2013-01-23        233    44    16      139     139               44   \n",
       "\n",
       "     North Indian B/F  Omelette  \n",
       "110                 3        18  \n",
       "111                 3        22  \n",
       "112                 6        22  \n",
       "113                 7        21  \n",
       "114                 4        17  "
      ]
     },
     "execution_count": 2,
     "metadata": {},
     "output_type": "execute_result"
    }
   ],
   "source": [
    "df_ = pd.read_csv('./data/IMB.csv')\n",
    "df_[\"Date\"] = pd.to_datetime(df_.Date, format=\"%d/%m/%Y\")\n",
    "\n",
    "num_days = len(df_)\n",
    "item_names = df_.columns[2:9].values\n",
    "num_items = len(item_names)\n",
    "\n",
    "print(\"Number of missing values: \", df_.isnull().sum().sum())\n",
    "print(\"Shape: \",df_.shape)\n",
    "df_.tail()"
   ]
  },
  {
   "cell_type": "markdown",
   "metadata": {},
   "source": [
    "The data consists of the daily occupancy and sales figures for 7 breakfast items. The dataset is small, spanning less than four months from 1st October 2012 to 23rd January 2013. Luckily, there are no missing values. "
   ]
  },
  {
   "cell_type": "markdown",
   "metadata": {},
   "source": [
    "Classical ARIMA models are parametric and require determination of the ARIMA parameters for each breakfast item. In contrast, we can build a single model using deep learning. The data are rearranged with a single target column (i.e. sales) and a new feature column for item number. The advantage of neural networks is that numerous input features, such as occupancy, are easily included."
   ]
  },
  {
   "cell_type": "code",
   "execution_count": 3,
   "metadata": {},
   "outputs": [],
   "source": [
    "bkfst_map = {0:'Idly',1:'Dosa',2:'Chutney',3:'Sambar',4:'Continental B/F',\n",
    "             5:'North Indian B/F',6:'Omelette'}\n",
    "num_items = len(bkfst_map)\n",
    "\n",
    "df = df_.loc[np.repeat(df_.index.values,num_items)]\n",
    "df = df.reset_index(drop=True)\n",
    "\n",
    "for i in range(num_days):\n",
    "    for j in range(num_items):\n",
    "        df.loc[num_items*i+j,'Item'] = j\n",
    "        df.loc[num_items*i+j,'Sales'] = df_.loc[i,bkfst_map[j]]\n",
    "\n",
    "df = df.drop(columns=[\"Idly\",\"Dosa\",\"Chutney\",\"Sambar\",\"Continental B/F\",\n",
    "                      \"North Indian B/F\", \"Omelette\",])        "
   ]
  },
  {
   "cell_type": "markdown",
   "metadata": {},
   "source": [
    "Let's also include some external data about public holidays in the region (the holiday data is drawn from [here](https://www.officeholidays.com/countries/india/tamil_nadu/index.php))."
   ]
  },
  {
   "cell_type": "code",
   "execution_count": 4,
   "metadata": {},
   "outputs": [
    {
     "data": {
      "text/html": [
       "<div>\n",
       "<style scoped>\n",
       "    .dataframe tbody tr th:only-of-type {\n",
       "        vertical-align: middle;\n",
       "    }\n",
       "\n",
       "    .dataframe tbody tr th {\n",
       "        vertical-align: top;\n",
       "    }\n",
       "\n",
       "    .dataframe thead th {\n",
       "        text-align: right;\n",
       "    }\n",
       "</style>\n",
       "<table border=\"1\" class=\"dataframe\">\n",
       "  <thead>\n",
       "    <tr style=\"text-align: right;\">\n",
       "      <th></th>\n",
       "      <th>Date</th>\n",
       "      <th>Occupancy</th>\n",
       "      <th>Item</th>\n",
       "      <th>Sales</th>\n",
       "      <th>PublicHoliday</th>\n",
       "    </tr>\n",
       "  </thead>\n",
       "  <tbody>\n",
       "    <tr>\n",
       "      <th>795</th>\n",
       "      <td>2013-01-22</td>\n",
       "      <td>230</td>\n",
       "      <td>4.0</td>\n",
       "      <td>43.0</td>\n",
       "      <td>False</td>\n",
       "    </tr>\n",
       "    <tr>\n",
       "      <th>796</th>\n",
       "      <td>2013-01-22</td>\n",
       "      <td>230</td>\n",
       "      <td>5.0</td>\n",
       "      <td>7.0</td>\n",
       "      <td>False</td>\n",
       "    </tr>\n",
       "    <tr>\n",
       "      <th>797</th>\n",
       "      <td>2013-01-22</td>\n",
       "      <td>230</td>\n",
       "      <td>6.0</td>\n",
       "      <td>21.0</td>\n",
       "      <td>False</td>\n",
       "    </tr>\n",
       "    <tr>\n",
       "      <th>798</th>\n",
       "      <td>2013-01-23</td>\n",
       "      <td>233</td>\n",
       "      <td>0.0</td>\n",
       "      <td>44.0</td>\n",
       "      <td>False</td>\n",
       "    </tr>\n",
       "    <tr>\n",
       "      <th>799</th>\n",
       "      <td>2013-01-23</td>\n",
       "      <td>233</td>\n",
       "      <td>1.0</td>\n",
       "      <td>16.0</td>\n",
       "      <td>False</td>\n",
       "    </tr>\n",
       "    <tr>\n",
       "      <th>800</th>\n",
       "      <td>2013-01-23</td>\n",
       "      <td>233</td>\n",
       "      <td>2.0</td>\n",
       "      <td>139.0</td>\n",
       "      <td>False</td>\n",
       "    </tr>\n",
       "    <tr>\n",
       "      <th>801</th>\n",
       "      <td>2013-01-23</td>\n",
       "      <td>233</td>\n",
       "      <td>3.0</td>\n",
       "      <td>139.0</td>\n",
       "      <td>False</td>\n",
       "    </tr>\n",
       "    <tr>\n",
       "      <th>802</th>\n",
       "      <td>2013-01-23</td>\n",
       "      <td>233</td>\n",
       "      <td>4.0</td>\n",
       "      <td>44.0</td>\n",
       "      <td>False</td>\n",
       "    </tr>\n",
       "    <tr>\n",
       "      <th>803</th>\n",
       "      <td>2013-01-23</td>\n",
       "      <td>233</td>\n",
       "      <td>5.0</td>\n",
       "      <td>4.0</td>\n",
       "      <td>False</td>\n",
       "    </tr>\n",
       "    <tr>\n",
       "      <th>804</th>\n",
       "      <td>2013-01-23</td>\n",
       "      <td>233</td>\n",
       "      <td>6.0</td>\n",
       "      <td>17.0</td>\n",
       "      <td>False</td>\n",
       "    </tr>\n",
       "  </tbody>\n",
       "</table>\n",
       "</div>"
      ],
      "text/plain": [
       "          Date  Occupancy  Item  Sales  PublicHoliday\n",
       "795 2013-01-22        230   4.0   43.0          False\n",
       "796 2013-01-22        230   5.0    7.0          False\n",
       "797 2013-01-22        230   6.0   21.0          False\n",
       "798 2013-01-23        233   0.0   44.0          False\n",
       "799 2013-01-23        233   1.0   16.0          False\n",
       "800 2013-01-23        233   2.0  139.0          False\n",
       "801 2013-01-23        233   3.0  139.0          False\n",
       "802 2013-01-23        233   4.0   44.0          False\n",
       "803 2013-01-23        233   5.0    4.0          False\n",
       "804 2013-01-23        233   6.0   17.0          False"
      ]
     },
     "execution_count": 4,
     "metadata": {},
     "output_type": "execute_result"
    }
   ],
   "source": [
    "holidays = pd.read_csv('./data/public_holidays_Tamil_Nadu.csv') \n",
    "holidays[\"Date\"] = pd.to_datetime(holidays.Date, format=\"%d/%m/%Y\")\n",
    "dates = list(holidays['Date'])\n",
    "\n",
    "for i in range(num_days*num_items):\n",
    "    df.loc[i,'PublicHoliday'] = df.loc[i,'Date'] in dates\n",
    "    \n",
    "df.tail(10)"
   ]
  },
  {
   "cell_type": "markdown",
   "metadata": {},
   "source": [
    "### Feature engineering"
   ]
  },
  {
   "cell_type": "markdown",
   "metadata": {},
   "source": [
    "In order to capture patterns in the behaviour of patients, a number of higher-level variables more representative of human activity (such as the day of the week) are extracted from the date."
   ]
  },
  {
   "cell_type": "code",
   "execution_count": 5,
   "metadata": {},
   "outputs": [],
   "source": [
    "def add_datepart(df, fldname, drop=True, time=False):\n",
    "    \"Helper function that adds columns relevant to a date.\"\n",
    "    fld = df[fldname]\n",
    "    fld_dtype = fld.dtype\n",
    "    if isinstance(fld_dtype, pd.core.dtypes.dtypes.DatetimeTZDtype):\n",
    "        fld_dtype = np.datetime64\n",
    "\n",
    "    if not np.issubdtype(fld_dtype, np.datetime64):\n",
    "        df[fldname] = fld = pd.to_datetime(fld, infer_datetime_format=True)\n",
    "    targ_pre = re.sub('[Dd]ate$', '', fldname)\n",
    "    attr = ['Year', 'Month', 'Week', 'Day', 'Dayofweek', 'Dayofyear',\n",
    "            'Is_month_end', 'Is_month_start', 'Is_quarter_end', \n",
    "            'Is_quarter_start', 'Is_year_end', 'Is_year_start']\n",
    "    if time: attr = attr + ['Hour', 'Minute', 'Second']\n",
    "    for n in attr: df[targ_pre + n] = getattr(fld.dt, n.lower())\n",
    "    df[targ_pre + 'Elapsed'] = fld.astype(np.int64) // 10 ** 9\n",
    "    if drop: df.drop(fldname, axis=1, inplace=True)\n",
    "\n",
    "add_datepart(df, \"Date\", drop=False)"
   ]
  },
  {
   "cell_type": "markdown",
   "metadata": {},
   "source": [
    "The number of days since the last, and until the next public holiday, may also be relevant."
   ]
  },
  {
   "cell_type": "code",
   "execution_count": 6,
   "metadata": {},
   "outputs": [],
   "source": [
    "def get_elapsed(fld, pre):\n",
    "    day1 = np.timedelta64(1, 'D')\n",
    "    last_date = np.datetime64()\n",
    "    res = []\n",
    "\n",
    "    for v,d in zip(df[fld].values, df.Date.values):\n",
    "        if v: last_date = d\n",
    "        res.append(((d-last_date).astype('timedelta64[D]') / day1))\n",
    "    df[pre+fld] = res"
   ]
  },
  {
   "cell_type": "code",
   "execution_count": 7,
   "metadata": {},
   "outputs": [
    {
     "name": "stdout",
     "output_type": "stream",
     "text": [
      "Shape:  (805, 19)\n"
     ]
    },
    {
     "data": {
      "text/html": [
       "<div>\n",
       "<style scoped>\n",
       "    .dataframe tbody tr th:only-of-type {\n",
       "        vertical-align: middle;\n",
       "    }\n",
       "\n",
       "    .dataframe tbody tr th {\n",
       "        vertical-align: top;\n",
       "    }\n",
       "\n",
       "    .dataframe thead th {\n",
       "        text-align: right;\n",
       "    }\n",
       "</style>\n",
       "<table border=\"1\" class=\"dataframe\">\n",
       "  <thead>\n",
       "    <tr style=\"text-align: right;\">\n",
       "      <th>Date</th>\n",
       "      <th>2012-10-01 00:00:00</th>\n",
       "      <th>2012-10-01 00:00:00</th>\n",
       "      <th>2012-10-01 00:00:00</th>\n",
       "      <th>2012-10-01 00:00:00</th>\n",
       "      <th>2012-10-01 00:00:00</th>\n",
       "    </tr>\n",
       "  </thead>\n",
       "  <tbody>\n",
       "    <tr>\n",
       "      <th>Occupancy</th>\n",
       "      <td>250</td>\n",
       "      <td>250</td>\n",
       "      <td>250</td>\n",
       "      <td>250</td>\n",
       "      <td>250</td>\n",
       "    </tr>\n",
       "    <tr>\n",
       "      <th>Item</th>\n",
       "      <td>0</td>\n",
       "      <td>1</td>\n",
       "      <td>2</td>\n",
       "      <td>3</td>\n",
       "      <td>4</td>\n",
       "    </tr>\n",
       "    <tr>\n",
       "      <th>Sales</th>\n",
       "      <td>40</td>\n",
       "      <td>30</td>\n",
       "      <td>95</td>\n",
       "      <td>95</td>\n",
       "      <td>25</td>\n",
       "    </tr>\n",
       "    <tr>\n",
       "      <th>PublicHoliday</th>\n",
       "      <td>False</td>\n",
       "      <td>False</td>\n",
       "      <td>False</td>\n",
       "      <td>False</td>\n",
       "      <td>False</td>\n",
       "    </tr>\n",
       "    <tr>\n",
       "      <th>Year</th>\n",
       "      <td>2012</td>\n",
       "      <td>2012</td>\n",
       "      <td>2012</td>\n",
       "      <td>2012</td>\n",
       "      <td>2012</td>\n",
       "    </tr>\n",
       "    <tr>\n",
       "      <th>Month</th>\n",
       "      <td>10</td>\n",
       "      <td>10</td>\n",
       "      <td>10</td>\n",
       "      <td>10</td>\n",
       "      <td>10</td>\n",
       "    </tr>\n",
       "    <tr>\n",
       "      <th>Week</th>\n",
       "      <td>40</td>\n",
       "      <td>40</td>\n",
       "      <td>40</td>\n",
       "      <td>40</td>\n",
       "      <td>40</td>\n",
       "    </tr>\n",
       "    <tr>\n",
       "      <th>Day</th>\n",
       "      <td>1</td>\n",
       "      <td>1</td>\n",
       "      <td>1</td>\n",
       "      <td>1</td>\n",
       "      <td>1</td>\n",
       "    </tr>\n",
       "    <tr>\n",
       "      <th>Dayofweek</th>\n",
       "      <td>0</td>\n",
       "      <td>0</td>\n",
       "      <td>0</td>\n",
       "      <td>0</td>\n",
       "      <td>0</td>\n",
       "    </tr>\n",
       "    <tr>\n",
       "      <th>Dayofyear</th>\n",
       "      <td>275</td>\n",
       "      <td>275</td>\n",
       "      <td>275</td>\n",
       "      <td>275</td>\n",
       "      <td>275</td>\n",
       "    </tr>\n",
       "    <tr>\n",
       "      <th>Is_month_end</th>\n",
       "      <td>False</td>\n",
       "      <td>False</td>\n",
       "      <td>False</td>\n",
       "      <td>False</td>\n",
       "      <td>False</td>\n",
       "    </tr>\n",
       "    <tr>\n",
       "      <th>Is_month_start</th>\n",
       "      <td>True</td>\n",
       "      <td>True</td>\n",
       "      <td>True</td>\n",
       "      <td>True</td>\n",
       "      <td>True</td>\n",
       "    </tr>\n",
       "    <tr>\n",
       "      <th>Is_quarter_end</th>\n",
       "      <td>False</td>\n",
       "      <td>False</td>\n",
       "      <td>False</td>\n",
       "      <td>False</td>\n",
       "      <td>False</td>\n",
       "    </tr>\n",
       "    <tr>\n",
       "      <th>Is_quarter_start</th>\n",
       "      <td>True</td>\n",
       "      <td>True</td>\n",
       "      <td>True</td>\n",
       "      <td>True</td>\n",
       "      <td>True</td>\n",
       "    </tr>\n",
       "    <tr>\n",
       "      <th>Is_year_end</th>\n",
       "      <td>False</td>\n",
       "      <td>False</td>\n",
       "      <td>False</td>\n",
       "      <td>False</td>\n",
       "      <td>False</td>\n",
       "    </tr>\n",
       "    <tr>\n",
       "      <th>Is_year_start</th>\n",
       "      <td>False</td>\n",
       "      <td>False</td>\n",
       "      <td>False</td>\n",
       "      <td>False</td>\n",
       "      <td>False</td>\n",
       "    </tr>\n",
       "    <tr>\n",
       "      <th>Elapsed</th>\n",
       "      <td>1349049600</td>\n",
       "      <td>1349049600</td>\n",
       "      <td>1349049600</td>\n",
       "      <td>1349049600</td>\n",
       "      <td>1349049600</td>\n",
       "    </tr>\n",
       "    <tr>\n",
       "      <th>AfterPublicHoliday</th>\n",
       "      <td>0</td>\n",
       "      <td>0</td>\n",
       "      <td>0</td>\n",
       "      <td>0</td>\n",
       "      <td>0</td>\n",
       "    </tr>\n",
       "    <tr>\n",
       "      <th>BeforePublicHoliday</th>\n",
       "      <td>-1</td>\n",
       "      <td>-1</td>\n",
       "      <td>-1</td>\n",
       "      <td>-1</td>\n",
       "      <td>-1</td>\n",
       "    </tr>\n",
       "  </tbody>\n",
       "</table>\n",
       "</div>"
      ],
      "text/plain": [
       "Date                 2012-10-01  2012-10-01  2012-10-01  2012-10-01  \\\n",
       "Occupancy                   250         250         250         250   \n",
       "Item                          0           1           2           3   \n",
       "Sales                        40          30          95          95   \n",
       "PublicHoliday             False       False       False       False   \n",
       "Year                       2012        2012        2012        2012   \n",
       "Month                        10          10          10          10   \n",
       "Week                         40          40          40          40   \n",
       "Day                           1           1           1           1   \n",
       "Dayofweek                     0           0           0           0   \n",
       "Dayofyear                   275         275         275         275   \n",
       "Is_month_end              False       False       False       False   \n",
       "Is_month_start             True        True        True        True   \n",
       "Is_quarter_end            False       False       False       False   \n",
       "Is_quarter_start           True        True        True        True   \n",
       "Is_year_end               False       False       False       False   \n",
       "Is_year_start             False       False       False       False   \n",
       "Elapsed              1349049600  1349049600  1349049600  1349049600   \n",
       "AfterPublicHoliday            0           0           0           0   \n",
       "BeforePublicHoliday          -1          -1          -1          -1   \n",
       "\n",
       "Date                 2012-10-01  \n",
       "Occupancy                   250  \n",
       "Item                          4  \n",
       "Sales                        25  \n",
       "PublicHoliday             False  \n",
       "Year                       2012  \n",
       "Month                        10  \n",
       "Week                         40  \n",
       "Day                           1  \n",
       "Dayofweek                     0  \n",
       "Dayofyear                   275  \n",
       "Is_month_end              False  \n",
       "Is_month_start             True  \n",
       "Is_quarter_end            False  \n",
       "Is_quarter_start           True  \n",
       "Is_year_end               False  \n",
       "Is_year_start             False  \n",
       "Elapsed              1349049600  \n",
       "AfterPublicHoliday            0  \n",
       "BeforePublicHoliday          -1  "
      ]
     },
     "execution_count": 7,
     "metadata": {},
     "output_type": "execute_result"
    }
   ],
   "source": [
    "df = df.sort_values('Date')\n",
    "get_elapsed('PublicHoliday', 'After')\n",
    "df = df.sort_values('Date', ascending=False)\n",
    "get_elapsed('PublicHoliday', 'Before')\n",
    "\n",
    "# Re-sort in chronological order, and set date as index\n",
    "df = df.sort_values(['Date','Item'])\n",
    "df = df.set_index(\"Date\")\n",
    "\n",
    "# Set the NaN values from the new columns to 0\n",
    "df[['Before'+'PublicHoliday', \n",
    "    'After'+'PublicHoliday']] = df[['Before'+'PublicHoliday', \n",
    "                                    'After'+'PublicHoliday']].fillna(0).astype(int)\n",
    "print(\"Shape: \",df.shape)\n",
    "df.head().T"
   ]
  },
  {
   "cell_type": "markdown",
   "metadata": {},
   "source": [
    "### Create training, validation and test sets"
   ]
  },
  {
   "cell_type": "markdown",
   "metadata": {},
   "source": [
    "Since the goal is to reduce food wastage, the validation and test sets are selected using time-based splitting. Using this method, the statistical distributions of the sets are not identical, and an indication of the generalisation ability of the production model is illustrated. Also, the hospital may need a week or more to buy ingredients. Neural networks commonly train separate models for predicting subsequent future time steps. To start, we'll train a model to predict a single day into the future. The test set is chosen as the sales of items during the final day of data."
   ]
  },
  {
   "cell_type": "code",
   "execution_count": 8,
   "metadata": {},
   "outputs": [],
   "source": [
    "test_days = 1\n",
    "test_size = test_days*num_items\n",
    "\n",
    "test_df = df[-test_size:]\n",
    "df = df[:-test_size]\n",
    "\n",
    "size = len(df)"
   ]
  },
  {
   "cell_type": "markdown",
   "metadata": {},
   "source": [
    "The test set is witheld until the very end, ensuring that that we do not tune the model parameters such that they work better than expected, [by chance](http://www.fast.ai/2017/11/13/validation-sets/). A validation set of the same length is chosen for model tuning."
   ]
  },
  {
   "cell_type": "code",
   "execution_count": 9,
   "metadata": {},
   "outputs": [],
   "source": [
    "val_size = test_size\n",
    "train_df, val_df = df[:-val_size].copy(), df[-val_size:].copy()"
   ]
  },
  {
   "cell_type": "markdown",
   "metadata": {},
   "source": [
    "## Categorical variables and entity embedding"
   ]
  },
  {
   "cell_type": "markdown",
   "metadata": {},
   "source": [
    "Neural networks can approximate [any](http://neuralnetworksanddeeplearning.com/chap4.html) arbitrary continuous function, but are not innately suited to approximating non-continuous functions. Structured data with categorical features are not necessarily continuous. While some categories are commonly given integer labels (called nominal numbers) for convenience, they do not necessarily share a continuous relationship and should not be naively treated as such by the alogorithm. For example, dosa is not necessarily bigger than idly and smaller than chutney. Other integer labels (called cardinal or ordinal numbers) do share some continuous relationship, such as the indices for month. However, different months may share some characteristics based on, for example, the number of days within them. Hence, treating date variables as discrete may improve the generalisation of the model.   "
   ]
  },
  {
   "cell_type": "code",
   "execution_count": 10,
   "metadata": {},
   "outputs": [],
   "source": [
    "dep_var = 'Sales'\n",
    "cat_names = ['Item', 'Year', 'Month', 'Week', 'Day', 'Dayofweek', 'Dayofyear', \n",
    "             'Is_month_end', 'Is_month_start', 'Is_quarter_end', 'Is_quarter_start', \n",
    "             'Is_year_end', 'Is_year_start', 'PublicHoliday',\n",
    "             'AfterPublicHoliday', 'BeforePublicHoliday']"
   ]
  },
  {
   "cell_type": "markdown",
   "metadata": {},
   "source": [
    "Traditionally, one-not encoding has been used to facilitate categorical features in neural networks, although the computational expense is prohibitive for high-cardinality variables. More importantly, this representation fails to capture relationships between categories. Hence, we instead use the [categorical embedding](http://www.fast.ai/2018/04/29/categorical-embeddings/) technique. For illustrative purposes, consider the overly-simplified embeddings below, describing a soup and a salad.\n",
    "\n",
    "|Item       |Spiciness  |Healthiness|Texture    |\n",
    "|-----------|-----------|-----------|-----------|\n",
    "|Soup       |0.9        |0.8        |0.1        |\n",
    "|Salad      |0.7        |0.9        |0.9        |\n",
    "\n",
    "Now the separate (non-continuous) meal categories are represented using 3 additional dimensions that are continuous over all meals. Each dimension may be thought of as learnable semantic information about the meal. According to this example, both meals are spicy and healthy so they're represented close to each other in these dimensions. However, a soup is a smooth liquid while a salad is a crunchy solid, so they're far apart in the texture dimension. With such a lack of data about the breakfast items (e.g. type, price, size, nutritional information, spiciness, region of origin) in the current problem, it is especially important to facilitate the learning of these relationships. In practice, it will likely turn out that each dimension captures numerous indistinguishable characteristics. "
   ]
  },
  {
   "cell_type": "markdown",
   "metadata": {},
   "source": [
    "To deal with categorical variables, we include Categorify in a a list of TabularTransform objects that will be applied the varables in preprocessing. Then a DataBunch object is created for training."
   ]
  },
  {
   "cell_type": "code",
   "execution_count": 11,
   "metadata": {},
   "outputs": [],
   "source": [
    "tfms = [FillMissing, Categorify]\n",
    "data = TabularDataBunch.from_df(\"./tmp\", train_df, val_df, dep_var, test_df, \n",
    "                                tfms=tfms, cat_names=cat_names)"
   ]
  },
  {
   "cell_type": "markdown",
   "metadata": {},
   "source": [
    "We calculate the dimensions of the embeddings from the category sizes, using the following [rule of thumb](https://github.com/fastai/fastai/blob/master/courses/dl1/lesson3-rossman.ipynb). "
   ]
  },
  {
   "cell_type": "code",
   "execution_count": 12,
   "metadata": {},
   "outputs": [
    {
     "data": {
      "text/plain": [
       "{'Item': 4,\n",
       " 'Year': 2,\n",
       " 'Month': 3,\n",
       " 'Week': 9,\n",
       " 'Day': 16,\n",
       " 'Dayofweek': 4,\n",
       " 'Dayofyear': 50,\n",
       " 'Is_month_end': 2,\n",
       " 'Is_month_start': 2,\n",
       " 'Is_quarter_end': 2,\n",
       " 'Is_quarter_start': 2,\n",
       " 'Is_year_end': 2,\n",
       " 'Is_year_start': 2,\n",
       " 'PublicHoliday': 2,\n",
       " 'AfterPublicHoliday': 14,\n",
       " 'BeforePublicHoliday': 14}"
      ]
     },
     "execution_count": 12,
     "metadata": {},
     "output_type": "execute_result"
    }
   ],
   "source": [
    "# add one to category sizes to allow for None values\n",
    "cat_sz = [(c, len(train_df[c].cat.categories)+1) for c in cat_names] \n",
    "emb_szs = {c1:min(50, (c2+1)//2) for c1,c2 in cat_sz}; emb_szs"
   ]
  },
  {
   "cell_type": "markdown",
   "metadata": {},
   "source": [
    "## Deep learning"
   ]
  },
  {
   "cell_type": "markdown",
   "metadata": {},
   "source": [
    "Firstly, a simple feed-forward neural network model with two hidden layers (with 25 neurons in each), and the embeddings sizes determined above, is built using a Learner object."
   ]
  },
  {
   "cell_type": "code",
   "execution_count": 13,
   "metadata": {
    "scrolled": true
   },
   "outputs": [],
   "source": [
    "learn = get_tabular_learner(data, layers=[25,25], emb_szs=emb_szs)"
   ]
  },
  {
   "cell_type": "markdown",
   "metadata": {},
   "source": [
    "To suggest a suitable learning rate, we use the learning rate finder. By default, the function stops when the learning rate explodes."
   ]
  },
  {
   "cell_type": "code",
   "execution_count": 14,
   "metadata": {},
   "outputs": [
    {
     "name": "stdout",
     "output_type": "stream",
     "text": [
      "LR Finder complete, type {learner_name}.recorder.plot() to see the graph.\n"
     ]
    }
   ],
   "source": [
    "learn.lr_find()"
   ]
  },
  {
   "cell_type": "markdown",
   "metadata": {},
   "source": [
    "Now, let's plot the loss function versus learning rate."
   ]
  },
  {
   "cell_type": "code",
   "execution_count": 15,
   "metadata": {
    "scrolled": true
   },
   "outputs": [
    {
     "data": {
      "image/png": "[encoded data removed]",
      "text/plain": [
       "<Figure size 432x288 with 1 Axes>"
      ]
     },
     "metadata": {
      "needs_background": "light"
     },
     "output_type": "display_data"
    }
   ],
   "source": [
    "learn.recorder.plot()"
   ]
  },
  {
   "cell_type": "markdown",
   "metadata": {},
   "source": [
    "The rule of thumb here is to pick an order of magnitude that is roughly at the midpoint of the steepest decreasing slope. It looks like this falls somewhere between $10^{-1}$ and $10^{0}$. Let's use the smaller value since training shouldn't take too long for this problem, and run training for 10 epochs."
   ]
  },
  {
   "cell_type": "code",
   "execution_count": 16,
   "metadata": {
    "scrolled": true
   },
   "outputs": [
    {
     "name": "stdout",
     "output_type": "stream",
     "text": [
      "Total time: 00:07\n",
      "epoch  train_loss  valid_loss   \n",
      "1      3912.124023  52351.519531  (00:00)\n",
      "2      2067.166992  7039.231934   (00:00)\n",
      "3      1264.914185  1983.909180   (00:00)\n",
      "4      878.476379  264.880219     (00:00)\n",
      "5      650.951111  197.484909     (00:00)\n",
      "6      505.850708  170.580536     (00:00)\n",
      "7      404.810608  468.989777     (00:00)\n",
      "8      361.096130  21.043930      (00:00)\n",
      "9      293.879730  41.976521      (00:00)\n",
      "10     238.080231  87.125572      (00:00)\n",
      "11     208.922012  28.040726      (00:00)\n",
      "12     179.860687  50.028721      (00:00)\n",
      "13     157.258392  40.029705      (00:00)\n",
      "14     133.039581  29.316206      (00:00)\n",
      "15     125.915413  28.561720      (00:00)\n",
      "\n"
     ]
    }
   ],
   "source": [
    "learn.fit_one_cycle(15, 1)"
   ]
  },
  {
   "cell_type": "markdown",
   "metadata": {},
   "source": [
    "## Results"
   ]
  },
  {
   "cell_type": "markdown",
   "metadata": {},
   "source": [
    "### Predictions"
   ]
  },
  {
   "cell_type": "markdown",
   "metadata": {},
   "source": [
    "Finally, we can look at our predictions, in comparison to the target values."
   ]
  },
  {
   "cell_type": "code",
   "execution_count": 17,
   "metadata": {},
   "outputs": [
    {
     "data": {
      "text/html": [
       "<div>\n",
       "<style scoped>\n",
       "    .dataframe tbody tr th:only-of-type {\n",
       "        vertical-align: middle;\n",
       "    }\n",
       "\n",
       "    .dataframe tbody tr th {\n",
       "        vertical-align: top;\n",
       "    }\n",
       "\n",
       "    .dataframe thead th {\n",
       "        text-align: right;\n",
       "    }\n",
       "</style>\n",
       "<table border=\"1\" class=\"dataframe\">\n",
       "  <thead>\n",
       "    <tr style=\"text-align: right;\">\n",
       "      <th></th>\n",
       "      <th>Targets</th>\n",
       "      <th>Predictions</th>\n",
       "    </tr>\n",
       "  </thead>\n",
       "  <tbody>\n",
       "    <tr>\n",
       "      <th>Idly</th>\n",
       "      <td>66.0</td>\n",
       "      <td>59.0</td>\n",
       "    </tr>\n",
       "    <tr>\n",
       "      <th>Dosa</th>\n",
       "      <td>17.0</td>\n",
       "      <td>25.0</td>\n",
       "    </tr>\n",
       "    <tr>\n",
       "      <th>Chutney</th>\n",
       "      <td>128.0</td>\n",
       "      <td>126.0</td>\n",
       "    </tr>\n",
       "    <tr>\n",
       "      <th>Sambar</th>\n",
       "      <td>123.0</td>\n",
       "      <td>127.0</td>\n",
       "    </tr>\n",
       "    <tr>\n",
       "      <th>Continental B/F</th>\n",
       "      <td>43.0</td>\n",
       "      <td>41.0</td>\n",
       "    </tr>\n",
       "    <tr>\n",
       "      <th>North Indian B/F</th>\n",
       "      <td>7.0</td>\n",
       "      <td>5.0</td>\n",
       "    </tr>\n",
       "    <tr>\n",
       "      <th>Omelette</th>\n",
       "      <td>21.0</td>\n",
       "      <td>13.0</td>\n",
       "    </tr>\n",
       "  </tbody>\n",
       "</table>\n",
       "</div>"
      ],
      "text/plain": [
       "                  Targets  Predictions\n",
       "Idly                 66.0         59.0\n",
       "Dosa                 17.0         25.0\n",
       "Chutney             128.0        126.0\n",
       "Sambar              123.0        127.0\n",
       "Continental B/F      43.0         41.0\n",
       "North Indian B/F      7.0          5.0\n",
       "Omelette             21.0         13.0"
      ]
     },
     "execution_count": 17,
     "metadata": {},
     "output_type": "execute_result"
    }
   ],
   "source": [
    "pred, targ = learn.get_preds()\n",
    "pred, targ = np.round(pred.numpy()), targ.numpy()\n",
    "results = pd.DataFrame(index = item_names, \n",
    "                       data = np.column_stack((targ,pred)), \n",
    "                       columns = ['Targets','Predictions'])\n",
    "results.head(10)"
   ]
  },
  {
   "cell_type": "markdown",
   "metadata": {},
   "source": [
    "### Visualising embeddings"
   ]
  },
  {
   "cell_type": "markdown",
   "metadata": {},
   "source": [
    "Out of interest, let's inspect the learned values of the embedding matrix for the item category. "
   ]
  },
  {
   "cell_type": "code",
   "execution_count": 18,
   "metadata": {},
   "outputs": [
    {
     "data": {
      "text/plain": [
       "array([[-0.4176886 , -0.30373386, -0.3204186 ,  0.33330435],\n",
       "       [ 1.7890958 ,  2.4003048 ,  2.3289754 , -2.246398  ],\n",
       "       [-2.9193099 , -3.8185925 , -3.4227471 ,  3.495456  ],\n",
       "       [-2.9792697 , -3.8745937 , -3.5144446 ,  3.6132276 ],\n",
       "       [ 0.8001354 ,  0.9166291 ,  0.93365335, -0.91012895],\n",
       "       [ 4.2724543 ,  5.6550097 ,  4.636518  , -5.0178485 ],\n",
       "       [ 3.5152476 ,  3.9791915 ,  3.7852154 , -3.7645051 ]],\n",
       "      dtype=float32)"
      ]
     },
     "execution_count": 18,
     "metadata": {},
     "output_type": "execute_result"
    }
   ],
   "source": [
    "embs = list()\n",
    "for param in learn.model.embeds.parameters():\n",
    "    embs.append(param)\n",
    "item_emb = embs[0].data[1:].numpy(); item_emb"
   ]
  },
  {
   "cell_type": "markdown",
   "metadata": {},
   "source": [
    "We can already see that the learned embeddings for chutney and sambar (rows 3 and 4) are very similar. Let's visualise the similarity of the breakfast item embeddings in 2-D, by using Principal Component Analysis (PCA) to reduce the dimensionality of this matrix."
   ]
  },
  {
   "cell_type": "code",
   "execution_count": 19,
   "metadata": {},
   "outputs": [
    {
     "data": {
      "image/png": "[encoded data removed]",
      "text/plain": [
       "<Figure size 432x288 with 1 Axes>"
      ]
     },
     "metadata": {
      "needs_background": "light"
     },
     "output_type": "display_data"
    }
   ],
   "source": [
    "pca = PCA(n_components=2).fit_transform(item_emb)\n",
    "x, y = pca[:,0], pca[:,1]\n",
    "\n",
    "fig, ax = plt.subplots()\n",
    "ax.scatter(x, y)\n",
    "\n",
    "for i, txt in enumerate(item_names):\n",
    "    ax.annotate(txt, (x[i], y[i]))"
   ]
  },
  {
   "cell_type": "markdown",
   "metadata": {},
   "source": [
    "Interestingly, we see a number of similar pairings in the two-dimensional representation of the embedding matrix. As expected, sambar and chutney lie close together. Also, idly falls near to continental breakfast, and omelette is close to North Indian breakfast. This imitates behaviour that was observed during the EDA of the previous notebook. It has been found that feeding learned embeddings into other machine learning models [significantly improves their accuracy](https://arxiv.org/abs/1604.06737). "
   ]
  },
  {
   "cell_type": "markdown",
   "metadata": {},
   "source": [
    "## Conclusions"
   ]
  },
  {
   "cell_type": "markdown",
   "metadata": {},
   "source": [
    "It is impressive that the deep neural network performed so well, given just 115 days of noisy data (machine learning techniques are generally considered data hungry). Nonetheless, the efforts that the hospital have gone to in order to collect data are poor by today’s standard, and the model would be much improved with more temporal data and features. For example, the training data of the Recruit Restaurant Visitor Forecasting competition includes sales for about 1.5 years across 829 restaurants. The training data of the Rosmann Store Sales Kaggle competition consists of 1,017,209 individual sales across 1,115 stores, and contains information about store models, promos, and competitors (e.g. distance away, how long their stores have been open).\n",
    "\n",
    "In the current neural network model, I included information about holidays (e.g. whether it is a holiday, how many days after/before a holiday it is). Going forward, Apollo hospitals could collect and supply information on the dietary requirements of patients, and more information about the meals could be included as features (e.g. price, size, nutritional values, what region of India it's from, whether it's spicy or plain, a soup or a salad). Perhaps, information about the patients themselves, such as their place of birth and age, would improve accuracy (privacy permitting). Also, an feature could be included to indicate whether a dish sold out on a given day. It would be interesting to explore the effects of other features, such as the weather and pollution levels, too. Of course, the model could be scalable to multiple hospital locations using another feature column. \n",
    "\n",
    "Interestingly(!), the same recommendations could apply to a POS system. Effective POS software should not only record actual sales, but stock, promotion, and customer information (perhaps through loyalty cards). Hence, POS software that includes machine learning techniques could forecast sales for a particular item in a particular store on a certain date, ensuring that the item is in stock and enabling the retailer to tailor promotional offers. The effect of promotional offers could also be analysed in detail. \n",
    "\n",
    "\n"
   ]
  }
 ],
 "metadata": {
  "kernelspec": {
   "display_name": "Python 3",
   "language": "python",
   "name": "python3"
  },
  "language_info": {
   "codemirror_mode": {
    "name": "ipython",
    "version": 3
   },
   "file_extension": ".py",
   "mimetype": "text/x-python",
   "name": "python",
   "nbconvert_exporter": "python",
   "pygments_lexer": "ipython3",
   "version": "3.7.0"
  },
  "toc": {
   "base_numbering": 1,
   "nav_menu": {},
   "number_sections": true,
   "sideBar": true,
   "skip_h1_title": true,
   "title_cell": "Table of Contents",
   "title_sidebar": "Contents",
   "toc_cell": false,
   "toc_position": {},
   "toc_section_display": true,
   "toc_window_display": false
  }
 },
 "nbformat": 4,
 "nbformat_minor": 2
}
