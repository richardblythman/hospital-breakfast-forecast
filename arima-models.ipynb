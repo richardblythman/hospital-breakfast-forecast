{
 "cells": [
  {
   "cell_type": "markdown",
   "metadata": {},
   "source": [
    "# Forecasting sales of breakfast items in Apollo Hospitals using neural network"
   ]
  },
  {
   "cell_type": "markdown",
   "metadata": {},
   "source": [
    "## Introduction"
   ]
  },
  {
   "cell_type": "markdown",
   "metadata": {},
   "source": [
    "Using the [Practical Deep Learning for Coders](http://course.fast.ai/) course on fast.ai. \n",
    "The implementation is inspired by the [Lesson 3 Jupyter notebook](https://github.com/fastai/fastai/blob/master/courses/dl1/lesson3-rossman.ipynb)\n",
    "\n",
    "Especially the structured time series data. I use Python.\n",
    "\n",
    "I chose to use a simple feed-forward neural network with entity embedding, since such models have been outperforming recurrent neural networks in recent times. For example, neural networks with categorical embedding have been successfully applied to time series data by the winners and 3rd place runners-up of the [New York City Taxi Fare Prediction](http://blog.kaggle.com/2015/07/27/taxi-trajectory-winners-interview-1st-place-team-%F0%9F%9A%95/) ([paper here](https://arxiv.org/abs/1508.00021)) and [Rosmann Store Sales](http://blog.kaggle.com/2016/01/22/rossmann-store-sales-winners-interview-3rd-place-cheng-gui/) ([paper here](https://arxiv.org/abs/1604.06737)) competitions on Kaggle. \n",
    "\n",
    "Using deep learning, the model requires just a single model. In contrast, classical ARIMA models are parametric and require determination of the ARIMA parameters for each breakfast item. "
   ]
  },
  {
   "cell_type": "markdown",
   "metadata": {},
   "source": [
    "## Preparations"
   ]
  },
  {
   "cell_type": "markdown",
   "metadata": {},
   "source": [
    "### Load libraries and data files"
   ]
  },
  {
   "cell_type": "markdown",
   "metadata": {},
   "source": [
    " [fast.ai](https://github.com/fastai/fastai) library (built on top of Pytorch)"
   ]
  },
  {
   "cell_type": "code",
   "execution_count": 1,
   "metadata": {
    "scrolled": true
   },
   "outputs": [],
   "source": [
    "%matplotlib inline\n",
    "\n",
    "# from fastai import *\n",
    "from fastai.tabular import *\n",
    "\n",
    "from sklearn.metrics import mean_absolute_error\n",
    "\n",
    "import pandas as pd\n",
    "import numpy as np"
   ]
  },
  {
   "cell_type": "code",
   "execution_count": 2,
   "metadata": {
    "scrolled": true
   },
   "outputs": [
    {
     "name": "stdout",
     "output_type": "stream",
     "text": [
      "Number of missing values:  0\n",
      "Shape:  (115, 9)\n"
     ]
    },
    {
     "data": {
      "text/html": [
       "<div>\n",
       "<style scoped>\n",
       "    .dataframe tbody tr th:only-of-type {\n",
       "        vertical-align: middle;\n",
       "    }\n",
       "\n",
       "    .dataframe tbody tr th {\n",
       "        vertical-align: top;\n",
       "    }\n",
       "\n",
       "    .dataframe thead th {\n",
       "        text-align: right;\n",
       "    }\n",
       "</style>\n",
       "<table border=\"1\" class=\"dataframe\">\n",
       "  <thead>\n",
       "    <tr style=\"text-align: right;\">\n",
       "      <th></th>\n",
       "      <th>Date</th>\n",
       "      <th>Occupancy</th>\n",
       "      <th>Idly</th>\n",
       "      <th>Dosa</th>\n",
       "      <th>Chutney</th>\n",
       "      <th>Sambar</th>\n",
       "      <th>Continental B/F</th>\n",
       "      <th>North Indian B/F</th>\n",
       "      <th>Omelette</th>\n",
       "    </tr>\n",
       "  </thead>\n",
       "  <tbody>\n",
       "    <tr>\n",
       "      <th>110</th>\n",
       "      <td>2013-01-19</td>\n",
       "      <td>198</td>\n",
       "      <td>61</td>\n",
       "      <td>15</td>\n",
       "      <td>127</td>\n",
       "      <td>127</td>\n",
       "      <td>40</td>\n",
       "      <td>3</td>\n",
       "      <td>18</td>\n",
       "    </tr>\n",
       "    <tr>\n",
       "      <th>111</th>\n",
       "      <td>2013-01-20</td>\n",
       "      <td>210</td>\n",
       "      <td>65</td>\n",
       "      <td>20</td>\n",
       "      <td>140</td>\n",
       "      <td>140</td>\n",
       "      <td>41</td>\n",
       "      <td>3</td>\n",
       "      <td>22</td>\n",
       "    </tr>\n",
       "    <tr>\n",
       "      <th>112</th>\n",
       "      <td>2013-01-21</td>\n",
       "      <td>200</td>\n",
       "      <td>61</td>\n",
       "      <td>14</td>\n",
       "      <td>129</td>\n",
       "      <td>136</td>\n",
       "      <td>41</td>\n",
       "      <td>6</td>\n",
       "      <td>22</td>\n",
       "    </tr>\n",
       "    <tr>\n",
       "      <th>113</th>\n",
       "      <td>2013-01-22</td>\n",
       "      <td>230</td>\n",
       "      <td>66</td>\n",
       "      <td>17</td>\n",
       "      <td>128</td>\n",
       "      <td>123</td>\n",
       "      <td>43</td>\n",
       "      <td>7</td>\n",
       "      <td>21</td>\n",
       "    </tr>\n",
       "    <tr>\n",
       "      <th>114</th>\n",
       "      <td>2013-01-23</td>\n",
       "      <td>233</td>\n",
       "      <td>44</td>\n",
       "      <td>16</td>\n",
       "      <td>139</td>\n",
       "      <td>139</td>\n",
       "      <td>44</td>\n",
       "      <td>4</td>\n",
       "      <td>17</td>\n",
       "    </tr>\n",
       "  </tbody>\n",
       "</table>\n",
       "</div>"
      ],
      "text/plain": [
       "          Date  Occupancy  Idly  Dosa  Chutney  Sambar  Continental B/F  \\\n",
       "110 2013-01-19        198    61    15      127     127               40   \n",
       "111 2013-01-20        210    65    20      140     140               41   \n",
       "112 2013-01-21        200    61    14      129     136               41   \n",
       "113 2013-01-22        230    66    17      128     123               43   \n",
       "114 2013-01-23        233    44    16      139     139               44   \n",
       "\n",
       "     North Indian B/F  Omelette  \n",
       "110                 3        18  \n",
       "111                 3        22  \n",
       "112                 6        22  \n",
       "113                 7        21  \n",
       "114                 4        17  "
      ]
     },
     "execution_count": 2,
     "metadata": {},
     "output_type": "execute_result"
    }
   ],
   "source": [
    "# Read sales data\n",
    "df_ = pd.read_csv('./data/IMB.csv')\n",
    "df_[\"Date\"] = pd.to_datetime(df_.Date, format=\"%d/%m/%Y\")\n",
    "\n",
    "num_days = len(df_)\n",
    "num_items = len(df_.columns[2:9])\n",
    "\n",
    "print(\"Number of missing values: \", df_.isnull().sum().sum())\n",
    "print(\"Shape: \",df_.shape)\n",
    "df_.tail()"
   ]
  },
  {
   "cell_type": "markdown",
   "metadata": {},
   "source": [
    "The raw dataset is composed of the sales numbers for 7 breakfast items, and a daily occupancy feature. The dataset is small, spanning less than four months from 1st October 2012 to 23rd January 2013. There are no missing values."
   ]
  },
  {
   "cell_type": "markdown",
   "metadata": {},
   "source": [
    "### Load external datasets"
   ]
  },
  {
   "cell_type": "markdown",
   "metadata": {},
   "source": [
    "As before, the holiday data (drawn from [here](https://www.officeholidays.com/countries/india/tamil_nadu/index.php)) is included."
   ]
  },
  {
   "cell_type": "code",
   "execution_count": 3,
   "metadata": {},
   "outputs": [],
   "source": [
    "# Include holiday data (source: www.officeholidays.com)\n",
    "holidays = pd.read_csv('./data/public_holidays_Tamil_Nadu.csv') \n",
    "holidays[\"Date\"] = pd.to_datetime(holidays.Date, format=\"%d/%m/%Y\")\n",
    "dates = list(holidays['Date'])\n",
    "\n",
    "for i in range(num_days):\n",
    "    df_.loc[i,'Is_holiday'] = df_.loc[i,'Date'] in dates"
   ]
  },
  {
   "cell_type": "markdown",
   "metadata": {},
   "source": [
    "### Data manipulation and feature engineering"
   ]
  },
  {
   "cell_type": "markdown",
   "metadata": {},
   "source": [
    "The data is rearranged with a single target column (i.e. sales) with a new feature column for the item number. The advantage of neural networks is that multiple input features, such as occupancy, are easily included."
   ]
  },
  {
   "cell_type": "code",
   "execution_count": 4,
   "metadata": {},
   "outputs": [
    {
     "data": {
      "text/html": [
       "<div>\n",
       "<style scoped>\n",
       "    .dataframe tbody tr th:only-of-type {\n",
       "        vertical-align: middle;\n",
       "    }\n",
       "\n",
       "    .dataframe tbody tr th {\n",
       "        vertical-align: top;\n",
       "    }\n",
       "\n",
       "    .dataframe thead th {\n",
       "        text-align: right;\n",
       "    }\n",
       "</style>\n",
       "<table border=\"1\" class=\"dataframe\">\n",
       "  <thead>\n",
       "    <tr style=\"text-align: right;\">\n",
       "      <th></th>\n",
       "      <th>Date</th>\n",
       "      <th>Occupancy</th>\n",
       "      <th>Is_holiday</th>\n",
       "      <th>Item</th>\n",
       "      <th>Sales</th>\n",
       "    </tr>\n",
       "  </thead>\n",
       "  <tbody>\n",
       "    <tr>\n",
       "      <th>795</th>\n",
       "      <td>2013-01-22</td>\n",
       "      <td>230</td>\n",
       "      <td>False</td>\n",
       "      <td>4.0</td>\n",
       "      <td>43.0</td>\n",
       "    </tr>\n",
       "    <tr>\n",
       "      <th>796</th>\n",
       "      <td>2013-01-22</td>\n",
       "      <td>230</td>\n",
       "      <td>False</td>\n",
       "      <td>5.0</td>\n",
       "      <td>7.0</td>\n",
       "    </tr>\n",
       "    <tr>\n",
       "      <th>797</th>\n",
       "      <td>2013-01-22</td>\n",
       "      <td>230</td>\n",
       "      <td>False</td>\n",
       "      <td>6.0</td>\n",
       "      <td>21.0</td>\n",
       "    </tr>\n",
       "    <tr>\n",
       "      <th>798</th>\n",
       "      <td>2013-01-23</td>\n",
       "      <td>233</td>\n",
       "      <td>False</td>\n",
       "      <td>0.0</td>\n",
       "      <td>44.0</td>\n",
       "    </tr>\n",
       "    <tr>\n",
       "      <th>799</th>\n",
       "      <td>2013-01-23</td>\n",
       "      <td>233</td>\n",
       "      <td>False</td>\n",
       "      <td>1.0</td>\n",
       "      <td>16.0</td>\n",
       "    </tr>\n",
       "    <tr>\n",
       "      <th>800</th>\n",
       "      <td>2013-01-23</td>\n",
       "      <td>233</td>\n",
       "      <td>False</td>\n",
       "      <td>2.0</td>\n",
       "      <td>139.0</td>\n",
       "    </tr>\n",
       "    <tr>\n",
       "      <th>801</th>\n",
       "      <td>2013-01-23</td>\n",
       "      <td>233</td>\n",
       "      <td>False</td>\n",
       "      <td>3.0</td>\n",
       "      <td>139.0</td>\n",
       "    </tr>\n",
       "    <tr>\n",
       "      <th>802</th>\n",
       "      <td>2013-01-23</td>\n",
       "      <td>233</td>\n",
       "      <td>False</td>\n",
       "      <td>4.0</td>\n",
       "      <td>44.0</td>\n",
       "    </tr>\n",
       "    <tr>\n",
       "      <th>803</th>\n",
       "      <td>2013-01-23</td>\n",
       "      <td>233</td>\n",
       "      <td>False</td>\n",
       "      <td>5.0</td>\n",
       "      <td>4.0</td>\n",
       "    </tr>\n",
       "    <tr>\n",
       "      <th>804</th>\n",
       "      <td>2013-01-23</td>\n",
       "      <td>233</td>\n",
       "      <td>False</td>\n",
       "      <td>6.0</td>\n",
       "      <td>17.0</td>\n",
       "    </tr>\n",
       "  </tbody>\n",
       "</table>\n",
       "</div>"
      ],
      "text/plain": [
       "          Date  Occupancy  Is_holiday  Item  Sales\n",
       "795 2013-01-22        230       False   4.0   43.0\n",
       "796 2013-01-22        230       False   5.0    7.0\n",
       "797 2013-01-22        230       False   6.0   21.0\n",
       "798 2013-01-23        233       False   0.0   44.0\n",
       "799 2013-01-23        233       False   1.0   16.0\n",
       "800 2013-01-23        233       False   2.0  139.0\n",
       "801 2013-01-23        233       False   3.0  139.0\n",
       "802 2013-01-23        233       False   4.0   44.0\n",
       "803 2013-01-23        233       False   5.0    4.0\n",
       "804 2013-01-23        233       False   6.0   17.0"
      ]
     },
     "execution_count": 4,
     "metadata": {},
     "output_type": "execute_result"
    }
   ],
   "source": [
    "bkfst_map = {0:'Idly',1:'Dosa',2:'Chutney',3:'Sambar',4:'Continental B/F',\n",
    "             5:'North Indian B/F',6:'Omelette'}\n",
    "num_items = len(bkfst_map)\n",
    "\n",
    "df = df_.loc[np.repeat(df_.index.values,num_items)]\n",
    "df = df.reset_index(drop=True)\n",
    "\n",
    "for i in range(num_days):\n",
    "    for j in range(num_items):\n",
    "        df.loc[num_items*i+j,'Item'] = j\n",
    "        df.loc[num_items*i+j,'Sales'] = df_.loc[i,bkfst_map[j]]\n",
    "\n",
    "df = df.drop(columns=[\"Idly\",\"Dosa\",\"Chutney\",\"Sambar\",\"Continental B/F\",\n",
    "                      \"North Indian B/F\", \"Omelette\",])        \n",
    "        \n",
    "df.tail(10)"
   ]
  },
  {
   "cell_type": "markdown",
   "metadata": {},
   "source": [
    "In order to capture cyclical behaviour in time, a number of categorical features (such as month, day of week) are extracted from the date."
   ]
  },
  {
   "cell_type": "code",
   "execution_count": null,
   "metadata": {},
   "outputs": [],
   "source": [
    "def add_datepart(df, fldname, drop=True, time=False):\n",
    "    \"Helper function that adds columns relevant to a date.\"\n",
    "    fld = df[fldname]\n",
    "    fld_dtype = fld.dtype\n",
    "    if isinstance(fld_dtype, pd.core.dtypes.dtypes.DatetimeTZDtype):\n",
    "        fld_dtype = np.datetime64\n",
    "\n",
    "    if not np.issubdtype(fld_dtype, np.datetime64):\n",
    "        df[fldname] = fld = pd.to_datetime(fld, infer_datetime_format=True)\n",
    "    targ_pre = re.sub('[Dd]ate$', '', fldname)\n",
    "    attr = ['Year', 'Month', 'Week', 'Day', 'Dayofweek', 'Dayofyear',\n",
    "            'Is_month_end', 'Is_month_start', 'Is_quarter_end', 'Is_quarter_start', 'Is_year_end', 'Is_year_start']\n",
    "    if time: attr = attr + ['Hour', 'Minute', 'Second']\n",
    "    for n in attr: df[targ_pre + n] = getattr(fld.dt, n.lower())\n",
    "    df[targ_pre + 'Elapsed'] = fld.astype(np.int64) // 10 ** 9\n",
    "    if drop: df.drop(fldname, axis=1, inplace=True)"
   ]
  },
  {
   "cell_type": "code",
   "execution_count": 5,
   "metadata": {},
   "outputs": [
    {
     "ename": "NameError",
     "evalue": "name 'add_datepart' is not defined",
     "output_type": "error",
     "traceback": [
      "\u001b[0;31m---------------------------------------------------------------------------\u001b[0m",
      "\u001b[0;31mNameError\u001b[0m                                 Traceback (most recent call last)",
      "\u001b[0;32m<ipython-input-5-a7c6892f0211>\u001b[0m in \u001b[0;36m<module>\u001b[0;34m\u001b[0m\n\u001b[0;32m----> 1\u001b[0;31m \u001b[0madd_datepart\u001b[0m\u001b[0;34m(\u001b[0m\u001b[0mdf\u001b[0m\u001b[0;34m,\u001b[0m \u001b[0;34m\"Date\"\u001b[0m\u001b[0;34m,\u001b[0m \u001b[0mdrop\u001b[0m\u001b[0;34m=\u001b[0m\u001b[0;32mFalse\u001b[0m\u001b[0;34m)\u001b[0m\u001b[0;34m\u001b[0m\u001b[0m\n\u001b[0m\u001b[1;32m      2\u001b[0m \u001b[0mdf\u001b[0m \u001b[0;34m=\u001b[0m \u001b[0mdf\u001b[0m\u001b[0;34m.\u001b[0m\u001b[0mdrop\u001b[0m\u001b[0;34m(\u001b[0m\u001b[0mcolumns\u001b[0m\u001b[0;34m=\u001b[0m\u001b[0;34m'Elapsed'\u001b[0m\u001b[0;34m)\u001b[0m\u001b[0;34m\u001b[0m\u001b[0m\n\u001b[1;32m      3\u001b[0m \u001b[0mdf\u001b[0m \u001b[0;34m=\u001b[0m \u001b[0mdf\u001b[0m\u001b[0;34m.\u001b[0m\u001b[0mset_index\u001b[0m\u001b[0;34m(\u001b[0m\u001b[0;34m'Date'\u001b[0m\u001b[0;34m)\u001b[0m\u001b[0;34m\u001b[0m\u001b[0m\n\u001b[1;32m      4\u001b[0m \u001b[0mprint\u001b[0m\u001b[0;34m(\u001b[0m\u001b[0mdf\u001b[0m\u001b[0;34m.\u001b[0m\u001b[0mshape\u001b[0m\u001b[0;34m)\u001b[0m\u001b[0;34m\u001b[0m\u001b[0m\n\u001b[1;32m      5\u001b[0m \u001b[0mdf\u001b[0m\u001b[0;34m.\u001b[0m\u001b[0mtail\u001b[0m\u001b[0;34m(\u001b[0m\u001b[0;34m)\u001b[0m\u001b[0;34m\u001b[0m\u001b[0m\n",
      "\u001b[0;31mNameError\u001b[0m: name 'add_datepart' is not defined"
     ]
    }
   ],
   "source": [
    "add_datepart(df, \"Date\", drop=False)\n",
    "df = df.drop(columns='Elapsed')\n",
    "df = df.set_index('Date')\n",
    "print(df.shape)\n",
    "df.tail()"
   ]
  },
  {
   "cell_type": "markdown",
   "metadata": {},
   "source": [
    "Create test set"
   ]
  },
  {
   "cell_type": "code",
   "execution_count": 7,
   "metadata": {},
   "outputs": [
    {
     "data": {
      "text/plain": [
       "798"
      ]
     },
     "execution_count": 7,
     "metadata": {},
     "output_type": "execute_result"
    }
   ],
   "source": [
    "test_days = 1\n",
    "test_size = test_days*num_items\n",
    "\n",
    "df_test = df[-test_size:]\n",
    "df = df[:-test_size]\n",
    "\n",
    "size = len(df); size"
   ]
  },
  {
   "cell_type": "markdown",
   "metadata": {},
   "source": [
    "Continuous and categorical variables"
   ]
  },
  {
   "cell_type": "markdown",
   "metadata": {},
   "source": [
    "Convert to input compatible with a neural network.\n",
    "\n",
    "This includes converting categorical variables into contiguous integers or one-hot encodings, normalizing continuous features to standard normal, etc...\n",
    "\n",
    "For continuous variables with small amounts of possible values (e.g. DoW), performance may be enhanced by treating the variable as categorical. "
   ]
  },
  {
   "cell_type": "code",
   "execution_count": 14,
   "metadata": {},
   "outputs": [],
   "source": [
    "# for v in cat_vars: df[v] = df[v].astype('category').cat.as_ordered()"
   ]
  },
  {
   "cell_type": "code",
   "execution_count": 15,
   "metadata": {},
   "outputs": [],
   "source": [
    "# apply_cats(df_test, df)"
   ]
  },
  {
   "cell_type": "code",
   "execution_count": 17,
   "metadata": {},
   "outputs": [],
   "source": [
    "# for v in contin_vars:\n",
    "#     df[v] = df[v].astype('float32')\n",
    "#     df_test[v] = df_test[v].astype('float32')"
   ]
  },
  {
   "cell_type": "markdown",
   "metadata": {},
   "source": [
    "normalization of continuous features, apply same normalization to test set."
   ]
  },
  {
   "cell_type": "code",
   "execution_count": 18,
   "metadata": {},
   "outputs": [],
   "source": [
    "# X, y, nas, mapper = proc_df(df, dep, do_scale=True)"
   ]
  },
  {
   "cell_type": "code",
   "execution_count": 19,
   "metadata": {},
   "outputs": [],
   "source": [
    "# X_test, _, nas, mapper = proc_df(df_test, dep, do_scale=True,\n",
    "#                                   mapper=mapper, na_dict=nas)"
   ]
  },
  {
   "cell_type": "markdown",
   "metadata": {},
   "source": [
    "validation set"
   ]
  },
  {
   "cell_type": "code",
   "execution_count": 20,
   "metadata": {},
   "outputs": [],
   "source": [
    "# val_size = test_size\n",
    "# val_idx = np.arange(size-val_size,size)"
   ]
  },
  {
   "cell_type": "code",
   "execution_count": 23,
   "metadata": {},
   "outputs": [],
   "source": [
    "tfms = [FillMissing, Categorify]"
   ]
  },
  {
   "cell_type": "code",
   "execution_count": 9,
   "metadata": {},
   "outputs": [],
   "source": [
    "val_size = test_size\n",
    "df_train, df_val = df[:-val_size], df[-val_size:]"
   ]
  },
  {
   "cell_type": "code",
   "execution_count": 24,
   "metadata": {},
   "outputs": [],
   "source": [
    "dep_var = 'Sales'\n",
    "cat_names = ['Item', 'Is_holiday', 'Date']\n",
    "# cat_names = ['Item', 'Is_holiday', 'Year', 'Month', 'Week', 'Day', 'Dayofweek', 'Dayofyear', 'Is_month_end', \n",
    "#             'Is_month_start', 'Is_quarter_end', 'Is_quarter_start', 'Is_year_end', 'Is_year_start']"
   ]
  },
  {
   "cell_type": "markdown",
   "metadata": {},
   "source": [
    "## Deep learning"
   ]
  },
  {
   "cell_type": "markdown",
   "metadata": {},
   "source": [
    "Convert DataFrame into ModelData object, which contains data loaders for the training, validation, and test sets."
   ]
  },
  {
   "cell_type": "code",
   "execution_count": 27,
   "metadata": {},
   "outputs": [],
   "source": [
    "data = TabularDataBunch.from_df(\"/home/richard/ML Projects/\", df_train, df_val, dep_var, tfms=tfms, cat_names=cat_names)\n",
    "\n",
    "# md = ColumnarModelData.from_data_frame(\"/home/richard/ML Projects/\", val_idx, X, y.astype(np.float32), cat_flds=cat_vars, bs=1,\n",
    "#                                        test_df=X_test)"
   ]
  },
  {
   "cell_type": "markdown",
   "metadata": {},
   "source": [
    "There is a general lack of information about the meals. For example, we have no data indicating the price, size or nutritional values of a meal, what region of India it's from, and whether it's spicy or plain, a soup or a salad. To compensate for this, we will use [categorical embedding](http://www.fast.ai/2018/04/29/categorical-embeddings/) to capture relationships between the categorical variables, in a manner analogous to word embeddings. For example, meal type is represented as a multi-dimensional vector. Each dimension may be thought of as learnable semantic information about the meal, that may end up representing \"spiciness\" or \"soupiness\".  Of course, each dimension will likely have multiple meanings in practice. Similarly, certain days of the week may have similar behaviour.  "
   ]
  },
  {
   "cell_type": "code",
   "execution_count": 29,
   "metadata": {},
   "outputs": [
    {
     "ename": "TypeError",
     "evalue": "'TabularDataBunch' object is not subscriptable",
     "output_type": "error",
     "traceback": [
      "\u001b[0;31m---------------------------------------------------------------------------\u001b[0m",
      "\u001b[0;31mTypeError\u001b[0m                                 Traceback (most recent call last)",
      "\u001b[0;32m<ipython-input-29-e2cdc2815e3a>\u001b[0m in \u001b[0;36m<module>\u001b[0;34m\u001b[0m\n\u001b[0;32m----> 1\u001b[0;31m \u001b[0mcat_sz\u001b[0m \u001b[0;34m=\u001b[0m \u001b[0;34m[\u001b[0m\u001b[0;34m(\u001b[0m\u001b[0mc\u001b[0m\u001b[0;34m,\u001b[0m \u001b[0mlen\u001b[0m\u001b[0;34m(\u001b[0m\u001b[0mdata\u001b[0m\u001b[0;34m[\u001b[0m\u001b[0mc\u001b[0m\u001b[0;34m]\u001b[0m\u001b[0;34m.\u001b[0m\u001b[0mcat\u001b[0m\u001b[0;34m.\u001b[0m\u001b[0mcategories\u001b[0m\u001b[0;34m)\u001b[0m\u001b[0;34m+\u001b[0m\u001b[0;36m1\u001b[0m\u001b[0;34m)\u001b[0m \u001b[0;32mfor\u001b[0m \u001b[0mc\u001b[0m \u001b[0;32min\u001b[0m \u001b[0mcat_names\u001b[0m\u001b[0;34m]\u001b[0m\u001b[0;34m;\u001b[0m \u001b[0mcat_names\u001b[0m\u001b[0;34m\u001b[0m\u001b[0m\n\u001b[0m",
      "\u001b[0;32m<ipython-input-29-e2cdc2815e3a>\u001b[0m in \u001b[0;36m<listcomp>\u001b[0;34m(.0)\u001b[0m\n\u001b[0;32m----> 1\u001b[0;31m \u001b[0mcat_sz\u001b[0m \u001b[0;34m=\u001b[0m \u001b[0;34m[\u001b[0m\u001b[0;34m(\u001b[0m\u001b[0mc\u001b[0m\u001b[0;34m,\u001b[0m \u001b[0mlen\u001b[0m\u001b[0;34m(\u001b[0m\u001b[0mdata\u001b[0m\u001b[0;34m[\u001b[0m\u001b[0mc\u001b[0m\u001b[0;34m]\u001b[0m\u001b[0;34m.\u001b[0m\u001b[0mcat\u001b[0m\u001b[0;34m.\u001b[0m\u001b[0mcategories\u001b[0m\u001b[0;34m)\u001b[0m\u001b[0;34m+\u001b[0m\u001b[0;36m1\u001b[0m\u001b[0;34m)\u001b[0m \u001b[0;32mfor\u001b[0m \u001b[0mc\u001b[0m \u001b[0;32min\u001b[0m \u001b[0mcat_names\u001b[0m\u001b[0;34m]\u001b[0m\u001b[0;34m;\u001b[0m \u001b[0mcat_names\u001b[0m\u001b[0;34m\u001b[0m\u001b[0m\n\u001b[0m",
      "\u001b[0;31mTypeError\u001b[0m: 'TabularDataBunch' object is not subscriptable"
     ]
    }
   ],
   "source": [
    "cat_sz = [(c, len(df[c].cat.categories)+1) for c in cat_names]; cat_names"
   ]
  },
  {
   "cell_type": "code",
   "execution_count": 22,
   "metadata": {},
   "outputs": [
    {
     "data": {
      "text/plain": [
       "[('Item', 8),\n",
       " ('Is_holiday', 3),\n",
       " ('Year', 3),\n",
       " ('Month', 5),\n",
       " ('Week', 18),\n",
       " ('Day', 32),\n",
       " ('Dayofweek', 8),\n",
       " ('Dayofyear', 115),\n",
       " ('Is_month_end', 3),\n",
       " ('Is_month_start', 3),\n",
       " ('Is_quarter_end', 3),\n",
       " ('Is_quarter_start', 3),\n",
       " ('Is_year_end', 3),\n",
       " ('Is_year_start', 3)]"
      ]
     },
     "execution_count": 22,
     "metadata": {},
     "output_type": "execute_result"
    }
   ],
   "source": [
    "# cat_sz = [(c, len(df[c].cat.categories)+1) for c in cat_vars]; cat_sz"
   ]
  },
  {
   "cell_type": "markdown",
   "metadata": {},
   "source": [
    "The sizes of the embedding are calculated using the following rule of thumb (watch lesson 3 video)."
   ]
  },
  {
   "cell_type": "code",
   "execution_count": 23,
   "metadata": {
    "scrolled": true
   },
   "outputs": [
    {
     "data": {
      "text/plain": [
       "[(8, 4),\n",
       " (3, 2),\n",
       " (3, 2),\n",
       " (5, 3),\n",
       " (18, 9),\n",
       " (32, 16),\n",
       " (8, 4),\n",
       " (115, 50),\n",
       " (3, 2),\n",
       " (3, 2),\n",
       " (3, 2),\n",
       " (3, 2),\n",
       " (3, 2),\n",
       " (3, 2)]"
      ]
     },
     "execution_count": 23,
     "metadata": {},
     "output_type": "execute_result"
    }
   ],
   "source": [
    "# emb_szs = [(c, min(50, (c+1)//2)) for _,c in cat_sz]; emb_szs"
   ]
  },
  {
   "cell_type": "code",
   "execution_count": 24,
   "metadata": {
    "scrolled": true
   },
   "outputs": [
    {
     "data": {
      "text/plain": [
       "OrderedDict([('Embedding-1',\n",
       "              OrderedDict([('input_shape', [-1]),\n",
       "                           ('output_shape', [-1, 4]),\n",
       "                           ('trainable', True),\n",
       "                           ('nb_params', 32)])),\n",
       "             ('Embedding-2',\n",
       "              OrderedDict([('input_shape', [-1]),\n",
       "                           ('output_shape', [-1, 2]),\n",
       "                           ('trainable', True),\n",
       "                           ('nb_params', 6)])),\n",
       "             ('Embedding-3',\n",
       "              OrderedDict([('input_shape', [-1]),\n",
       "                           ('output_shape', [-1, 2]),\n",
       "                           ('trainable', True),\n",
       "                           ('nb_params', 6)])),\n",
       "             ('Embedding-4',\n",
       "              OrderedDict([('input_shape', [-1]),\n",
       "                           ('output_shape', [-1, 3]),\n",
       "                           ('trainable', True),\n",
       "                           ('nb_params', 15)])),\n",
       "             ('Embedding-5',\n",
       "              OrderedDict([('input_shape', [-1]),\n",
       "                           ('output_shape', [-1, 9]),\n",
       "                           ('trainable', True),\n",
       "                           ('nb_params', 162)])),\n",
       "             ('Embedding-6',\n",
       "              OrderedDict([('input_shape', [-1]),\n",
       "                           ('output_shape', [-1, 16]),\n",
       "                           ('trainable', True),\n",
       "                           ('nb_params', 512)])),\n",
       "             ('Embedding-7',\n",
       "              OrderedDict([('input_shape', [-1]),\n",
       "                           ('output_shape', [-1, 4]),\n",
       "                           ('trainable', True),\n",
       "                           ('nb_params', 32)])),\n",
       "             ('Embedding-8',\n",
       "              OrderedDict([('input_shape', [-1]),\n",
       "                           ('output_shape', [-1, 50]),\n",
       "                           ('trainable', True),\n",
       "                           ('nb_params', 5750)])),\n",
       "             ('Embedding-9',\n",
       "              OrderedDict([('input_shape', [-1]),\n",
       "                           ('output_shape', [-1, 2]),\n",
       "                           ('trainable', True),\n",
       "                           ('nb_params', 6)])),\n",
       "             ('Embedding-10',\n",
       "              OrderedDict([('input_shape', [-1]),\n",
       "                           ('output_shape', [-1, 2]),\n",
       "                           ('trainable', True),\n",
       "                           ('nb_params', 6)])),\n",
       "             ('Embedding-11',\n",
       "              OrderedDict([('input_shape', [-1]),\n",
       "                           ('output_shape', [-1, 2]),\n",
       "                           ('trainable', True),\n",
       "                           ('nb_params', 6)])),\n",
       "             ('Embedding-12',\n",
       "              OrderedDict([('input_shape', [-1]),\n",
       "                           ('output_shape', [-1, 2]),\n",
       "                           ('trainable', True),\n",
       "                           ('nb_params', 6)])),\n",
       "             ('Embedding-13',\n",
       "              OrderedDict([('input_shape', [-1]),\n",
       "                           ('output_shape', [-1, 2]),\n",
       "                           ('trainable', True),\n",
       "                           ('nb_params', 6)])),\n",
       "             ('Embedding-14',\n",
       "              OrderedDict([('input_shape', [-1]),\n",
       "                           ('output_shape', [-1, 2]),\n",
       "                           ('trainable', True),\n",
       "                           ('nb_params', 6)])),\n",
       "             ('Dropout-15',\n",
       "              OrderedDict([('input_shape', [-1, 102]),\n",
       "                           ('output_shape', [-1, 102]),\n",
       "                           ('nb_params', 0)])),\n",
       "             ('BatchNorm1d-16',\n",
       "              OrderedDict([('input_shape', [-1, 1]),\n",
       "                           ('output_shape', [-1, 1]),\n",
       "                           ('trainable', True),\n",
       "                           ('nb_params', 2)])),\n",
       "             ('Linear-17',\n",
       "              OrderedDict([('input_shape', [-1, 103]),\n",
       "                           ('output_shape', [-1, 25]),\n",
       "                           ('trainable', True),\n",
       "                           ('nb_params', 2600)])),\n",
       "             ('Dropout-18',\n",
       "              OrderedDict([('input_shape', [-1, 25]),\n",
       "                           ('output_shape', [-1, 25]),\n",
       "                           ('nb_params', 0)])),\n",
       "             ('Linear-19',\n",
       "              OrderedDict([('input_shape', [-1, 25]),\n",
       "                           ('output_shape', [-1, 25]),\n",
       "                           ('trainable', True),\n",
       "                           ('nb_params', 650)])),\n",
       "             ('Dropout-20',\n",
       "              OrderedDict([('input_shape', [-1, 25]),\n",
       "                           ('output_shape', [-1, 25]),\n",
       "                           ('nb_params', 0)])),\n",
       "             ('Linear-21',\n",
       "              OrderedDict([('input_shape', [-1, 25]),\n",
       "                           ('output_shape', [-1, 1]),\n",
       "                           ('trainable', True),\n",
       "                           ('nb_params', 26)]))])"
      ]
     },
     "execution_count": 24,
     "metadata": {},
     "output_type": "execute_result"
    }
   ],
   "source": [
    "learn = get_tabular_learner(data, layers=[25,25], emb_szs={'native-country': 10}, metrics=[mean_absolute_error])\n",
    "\n",
    "# m = md.get_learner(emb_szs, len(X.columns)-len(cat_vars), 0, 1, [25,25], [0,0])\n",
    "# m.summary()"
   ]
  },
  {
   "cell_type": "code",
   "execution_count": 25,
   "metadata": {},
   "outputs": [
    {
     "data": {
      "application/vnd.jupyter.widget-view+json": {
       "model_id": "5c11c931ff94424ea36f119c02eb5111",
       "version_major": 2,
       "version_minor": 0
      },
      "text/plain": [
       "HBox(children=(IntProgress(value=0, description='Epoch', max=1), HTML(value='')))"
      ]
     },
     "metadata": {},
     "output_type": "display_data"
    },
    {
     "name": "stdout",
     "output_type": "stream",
     "text": [
      " 64%|██████▍   | 510/791 [00:01<00:00, 335.73it/s, loss=1.34e+03]\n",
      "                                                                 \r"
     ]
    }
   ],
   "source": [
    "lr = 1e-3\n",
    "learn.lr_find()\n",
    "# lr_find(learn)"
   ]
  },
  {
   "cell_type": "code",
   "execution_count": 26,
   "metadata": {
    "scrolled": true
   },
   "outputs": [
    {
     "data": {
      "image/png": "[encoded data removed]",
      "text/plain": [
       "<Figure size 432x288 with 1 Axes>"
      ]
     },
     "metadata": {
      "needs_background": "light"
     },
     "output_type": "display_data"
    }
   ],
   "source": [
    "learn.recorder.plot()\n",
    "# m.sched.plot()"
   ]
  },
  {
   "cell_type": "markdown",
   "metadata": {},
   "source": [
    "Looks like X is a good learning rate."
   ]
  },
  {
   "cell_type": "code",
   "execution_count": 28,
   "metadata": {
    "scrolled": true
   },
   "outputs": [
    {
     "data": {
      "application/vnd.jupyter.widget-view+json": {
       "model_id": "bc565e774b45475db283633d90262fa3",
       "version_major": 2,
       "version_minor": 0
      },
      "text/plain": [
       "HBox(children=(IntProgress(value=0, description='Epoch', max=7), HTML(value='')))"
      ]
     },
     "metadata": {},
     "output_type": "display_data"
    },
    {
     "name": "stdout",
     "output_type": "stream",
     "text": [
      "epoch      trn_loss   val_loss   mean_absolute_error             \n",
      "    0      505.274244 168.804835 10.685241 \n",
      "    1      64.921048  50.000832  5.797965                    \n",
      "    2      55.576869  59.627936  6.558801                    \n",
      "    3      50.624207  61.195116  6.419994                    \n",
      "    4      37.147549  37.493445  5.604567                    \n",
      "    5      32.234002  65.267681  7.528493                    \n",
      "    6      45.940128  57.080517  6.46456                     \n",
      "\n"
     ]
    },
    {
     "data": {
      "text/plain": [
       "[array([57.08052]), 6.464559623173305]"
      ]
     },
     "execution_count": 28,
     "metadata": {},
     "output_type": "execute_result"
    }
   ],
   "source": [
    "learn.fit_one_cycle(7, 1e-3)\n",
    "# m.fit(lr, 7, metrics=[mean_absolute_error])"
   ]
  },
  {
   "cell_type": "code",
   "execution_count": 29,
   "metadata": {},
   "outputs": [],
   "source": [
    "x,y = m.predict_with_targs()"
   ]
  },
  {
   "cell_type": "code",
   "execution_count": 30,
   "metadata": {},
   "outputs": [
    {
     "data": {
      "text/plain": [
       "array([[ 62.15335],\n",
       "       [ 26.75789],\n",
       "       [135.66386],\n",
       "       [136.1527 ],\n",
       "       [ 42.3539 ],\n",
       "       [  3.57206],\n",
       "       [ 14.24322]], dtype=float32)"
      ]
     },
     "execution_count": 30,
     "metadata": {},
     "output_type": "execute_result"
    }
   ],
   "source": [
    "x"
   ]
  },
  {
   "cell_type": "markdown",
   "metadata": {},
   "source": [
    "Plot learned catergorical embeddings. t-SNE of categories see winners of other competitions."
   ]
  },
  {
   "cell_type": "code",
   "execution_count": 31,
   "metadata": {},
   "outputs": [
    {
     "data": {
      "text/plain": [
       "array([[ 66.],\n",
       "       [ 17.],\n",
       "       [128.],\n",
       "       [123.],\n",
       "       [ 43.],\n",
       "       [  7.],\n",
       "       [ 21.]], dtype=float32)"
      ]
     },
     "execution_count": 31,
     "metadata": {},
     "output_type": "execute_result"
    }
   ],
   "source": [
    "y"
   ]
  },
  {
   "cell_type": "markdown",
   "metadata": {},
   "source": [
    "## Conclusions"
   ]
  },
  {
   "cell_type": "markdown",
   "metadata": {},
   "source": [
    "For a more accurate overall prediction, the results of the deep neural network and the ARIMA model could be ensemble averaged.\n",
    "\n",
    "It is impressive that the deep neural network performed so well, given just 115 days of data. Nonetheless, the model would be much improved with more data in time. Also, capture more details at the point of sale such as patient information. \n",
    "\n",
    "Multiple hospital locations could be included using another feature column. \n",
    "\n",
    "include number of in-patients on specific diets\n",
    "include weather, pollution levels\n",
    "record patient information and activity\n",
    "a dish could sell out, include an indicator for this. a predictive model could equivalently avoid dishes selling out, and dissatisfied patients."
   ]
  }
 ],
 "metadata": {
  "kernelspec": {
   "display_name": "Python 3",
   "language": "python",
   "name": "python3"
  },
  "language_info": {
   "codemirror_mode": {
    "name": "ipython",
    "version": 3
   },
   "file_extension": ".py",
   "mimetype": "text/x-python",
   "name": "python",
   "nbconvert_exporter": "python",
   "pygments_lexer": "ipython3",
   "version": "3.7.0"
  },
  "toc": {
   "base_numbering": 1,
   "nav_menu": {},
   "number_sections": true,
   "sideBar": true,
   "skip_h1_title": true,
   "title_cell": "Table of Contents",
   "title_sidebar": "Contents",
   "toc_cell": false,
   "toc_position": {},
   "toc_section_display": true,
   "toc_window_display": false
  }
 },
 "nbformat": 4,
 "nbformat_minor": 2
}
